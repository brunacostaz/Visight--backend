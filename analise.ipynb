{
 "cells": [
  {
   "cell_type": "markdown",
   "metadata": {},
   "source": [
    "# WasteZero \n",
    "\n",
    "Este arquivo é destinado a análise dos dados para a criação dos Dashboards e tomada de decisões para os restaurantes."
   ]
  },
  {
   "cell_type": "code",
   "execution_count": 1,
   "metadata": {},
   "outputs": [],
   "source": [
    "import plotly.express as px\n",
    "from main import peso_bruto, peso_liquido, peso_corte, preco_kg, rendimento, prejuizo, desperdicio, percentual_desperdicio\n",
    "import pandas as pd\n",
    "\n",
    "dados_custo = pd.read_json('base_dados.json')\n",
    "display(dados_custo)\n",
    "\n"
   ]
  }
 ],
 "metadata": {
  "kernelspec": {
   "display_name": "Python 3",
   "language": "python",
   "name": "python3"
  },
  "language_info": {
   "codemirror_mode": {
    "name": "ipython",
    "version": 3
   },
   "file_extension": ".py",
   "mimetype": "text/x-python",
   "name": "python",
   "nbconvert_exporter": "python",
   "pygments_lexer": "ipython3",
   "version": "3.12.3"
  }
 },
 "nbformat": 4,
 "nbformat_minor": 2
}
