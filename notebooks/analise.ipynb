{
 "cells": [
  {
   "cell_type": "markdown",
   "metadata": {},
   "source": [
    "# WasteZero \n",
    "\n",
    "Este arquivo é destinado a análise dos dados para a criação dos Dashboards e tomada de decisões para os restaurantes."
   ]
  },
  {
   "cell_type": "code",
   "execution_count": 45,
   "metadata": {},
   "outputs": [
    {
     "name": "stdout",
     "output_type": "stream",
     "text": [
      "47.940623039933094\n",
      "   carne_gado_picanha  carne_gado_file_mion  carne_gado_maminha  \\\n",
      "0               80.00                  80.0                35.0   \n",
      "1               78.50                  61.0                50.0   \n",
      "2               62.20                  70.5                45.5   \n",
      "3               86.42                  95.0                40.0   \n",
      "\n",
      "   carne_gado_contrafile  carne_gado_alcatra  carne_gado_costela  \\\n",
      "0                   45.0                42.0               25.70   \n",
      "1                   60.0                45.2               30.00   \n",
      "2                   52.4                40.0               35.46   \n",
      "3                   58.1                58.0               40.00   \n",
      "\n",
      "   carne_gado_fraldinha  carne_frango  carne_peixe_namorado  \\\n",
      "0                 35.00          12.0                  74.0   \n",
      "1                 50.00          10.5                  56.0   \n",
      "2                 43.40           9.9                  62.0   \n",
      "3                 40.84          11.8                  50.0   \n",
      "\n",
      "   carne_peixe_tilapia  carne_peixe_salmao  carne_peixe_porquinho  \\\n",
      "0                 20.8                80.0                   45.0   \n",
      "1                 25.6                95.0                   48.8   \n",
      "2                 19.0                86.6                   59.1   \n",
      "3                 20.0               115.0                   42.0   \n",
      "\n",
      "   carne_peixe_cacao  carne_peixe_peixe_espada  \n",
      "0               35.0                      30.0  \n",
      "1               40.0                      32.5  \n",
      "2               42.5                      48.6  \n",
      "3               45.0                      40.0  \n"
     ]
    }
   ],
   "source": [
    "import sys\n",
    "import os\n",
    "sys.path.append(os.path.abspath(\"../src\"))\n",
    "from main import rendimento\n",
    "print(rendimento)\n",
    "\n",
    "os.chdir(\"D:/Fiap/projetos/WasteZero-IC/WasteZero--python/data\")\n",
    "import json\n",
    "with open(\"preco_alimentos.json\", 'r') as file:\n",
    "    preco_alimentos = json.load(file)\n",
    "\n",
    "import pandas as pd\n",
    "import numpy as np\n",
    "\n",
    "def criar_dataframe(dicionario):\n",
    "    colunas = {}\n",
    "\n",
    "    #função para criar categorias especificas para os dados\n",
    "    def processar_categorias(categoria, valores, prefixo=''):\n",
    "        #verifica se o valor for um dicionário\n",
    "        if isinstance(valores, dict):\n",
    "            for chave, valor in valores.items():\n",
    "                #operador ternário: condição está entre o if e o else\n",
    "                #se for verdadeiro, executa o que está escrito antes do if\n",
    "                #se for falso, executa o que vem depois do else\n",
    "                novo_prefixo = f'{prefixo}_{chave}' if prefixo else chave\n",
    "                processar_categorias(categoria, valor, novo_prefixo)\n",
    "        elif isinstance(valores, list):\n",
    "            for i, valor in enumerate(valores):\n",
    "                col_nome = f'{categoria}_{prefixo}' if prefixo else categoria\n",
    "                if col_nome not in colunas:\n",
    "                    colunas[col_nome] = []\n",
    "                if i >= len(colunas[col_nome]):\n",
    "                    colunas[col_nome].append(valor)\n",
    "                else:\n",
    "                    colunas[col_nome][i] = valor\n",
    "\n",
    "    for chave, valores in dicionario['custo_por_kg'].items():\n",
    "        processar_categorias(chave, valores)\n",
    "    \n",
    "    #expressão geradora -> sintaxe (expressão for item in iterável(lista,dicionario))\n",
    "    tamanho_maximo = max(len(col) for col in colunas.values())\n",
    "    for col_nome in colunas:\n",
    "        while len(colunas[col_nome]) < tamanho_maximo:\n",
    "            colunas[col_nome].append(np.nan)\n",
    "    \n",
    "    df_precos_alimentos = pd.DataFrame(colunas)\n",
    "    return df_precos_alimentos\n",
    "\n",
    "df_precos_alimentos = criar_dataframe(preco_alimentos)\n",
    "print(df_precos_alimentos)\n",
    "\n",
    "\n",
    "\n"
   ]
  },
  {
   "cell_type": "code",
   "execution_count": null,
   "metadata": {},
   "outputs": [],
   "source": []
  }
 ],
 "metadata": {
  "kernelspec": {
   "display_name": "Python 3",
   "language": "python",
   "name": "python3"
  },
  "language_info": {
   "codemirror_mode": {
    "name": "ipython",
    "version": 3
   },
   "file_extension": ".py",
   "mimetype": "text/x-python",
   "name": "python",
   "nbconvert_exporter": "python",
   "pygments_lexer": "ipython3",
   "version": "3.12.3"
  }
 },
 "nbformat": 4,
 "nbformat_minor": 2
}
