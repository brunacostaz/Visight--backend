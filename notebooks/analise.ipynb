{
 "cells": [
  {
   "cell_type": "markdown",
   "metadata": {},
   "source": [
    "# WasteZero \n",
    "\n",
    "Este arquivo é destinado a análise dos dados para a criação dos Dashboards e tomada de decisões para os restaurantes."
   ]
  },
  {
   "cell_type": "code",
   "execution_count": 42,
   "metadata": {},
   "outputs": [
    {
     "name": "stdout",
     "output_type": "stream",
     "text": [
      "47.940623039933094\n"
     ]
    },
    {
     "ename": "TypeError",
     "evalue": "list indices must be integers or slices, not str",
     "output_type": "error",
     "traceback": [
      "\u001b[1;31m---------------------------------------------------------------------------\u001b[0m",
      "\u001b[1;31mTypeError\u001b[0m                                 Traceback (most recent call last)",
      "Cell \u001b[1;32mIn[42], line 50\u001b[0m\n\u001b[0;32m     47\u001b[0m     df_precos_alimentos \u001b[38;5;241m=\u001b[39m pd\u001b[38;5;241m.\u001b[39mDataFrame(colunas)\n\u001b[0;32m     48\u001b[0m     \u001b[38;5;28;01mreturn\u001b[39;00m df_precos_alimentos\n\u001b[1;32m---> 50\u001b[0m df_precos_alimentos \u001b[38;5;241m=\u001b[39m \u001b[43mcriar_dataframe\u001b[49m\u001b[43m(\u001b[49m\u001b[43mpreco_alimentos\u001b[49m\u001b[43m)\u001b[49m\n\u001b[0;32m     51\u001b[0m \u001b[38;5;28mprint\u001b[39m(df_precos_alimentos)\n",
      "Cell \u001b[1;32mIn[42], line 39\u001b[0m, in \u001b[0;36mcriar_dataframe\u001b[1;34m(dicionario)\u001b[0m\n\u001b[0;32m     36\u001b[0m                 colunas[col_nome][i] \u001b[38;5;241m=\u001b[39m valor\n\u001b[0;32m     38\u001b[0m \u001b[38;5;28;01mfor\u001b[39;00m chave, valores \u001b[38;5;129;01min\u001b[39;00m dicionario[\u001b[38;5;124m'\u001b[39m\u001b[38;5;124mcusto_por_kg\u001b[39m\u001b[38;5;124m'\u001b[39m]\u001b[38;5;241m.\u001b[39mitems():\n\u001b[1;32m---> 39\u001b[0m     \u001b[43mprocessar_categorias\u001b[49m\u001b[43m(\u001b[49m\u001b[43mchave\u001b[49m\u001b[43m,\u001b[49m\u001b[43m \u001b[49m\u001b[43mvalores\u001b[49m\u001b[43m)\u001b[49m\n\u001b[0;32m     41\u001b[0m \u001b[38;5;66;03m#expressão geradora -> sintaxe (expressão for item in iterável(lista,dicionario))\u001b[39;00m\n\u001b[0;32m     42\u001b[0m tamanho_maximo \u001b[38;5;241m=\u001b[39m \u001b[38;5;28mmax\u001b[39m(\u001b[38;5;28mlen\u001b[39m(col) \u001b[38;5;28;01mfor\u001b[39;00m col \u001b[38;5;129;01min\u001b[39;00m colunas\u001b[38;5;241m.\u001b[39mvalues())\n",
      "Cell \u001b[1;32mIn[42], line 27\u001b[0m, in \u001b[0;36mcriar_dataframe.<locals>.processar_categorias\u001b[1;34m(categoria, valores, prefixo)\u001b[0m\n\u001b[0;32m     22\u001b[0m     \u001b[38;5;28;01mfor\u001b[39;00m chave, valor \u001b[38;5;129;01min\u001b[39;00m valores\u001b[38;5;241m.\u001b[39mitems():\n\u001b[0;32m     23\u001b[0m         \u001b[38;5;66;03m#operador ternário: condição está entre o if e o else\u001b[39;00m\n\u001b[0;32m     24\u001b[0m         \u001b[38;5;66;03m#se for verdadeiro, executa o que está escrito antes do if\u001b[39;00m\n\u001b[0;32m     25\u001b[0m         \u001b[38;5;66;03m#se for falso, executa o que vem depois do else\u001b[39;00m\n\u001b[0;32m     26\u001b[0m         novo_prefixo \u001b[38;5;241m=\u001b[39m \u001b[38;5;124mf\u001b[39m\u001b[38;5;124m'\u001b[39m\u001b[38;5;132;01m{\u001b[39;00mprefixo\u001b[38;5;132;01m}\u001b[39;00m\u001b[38;5;124m_\u001b[39m\u001b[38;5;132;01m{\u001b[39;00mchave\u001b[38;5;132;01m}\u001b[39;00m\u001b[38;5;124m'\u001b[39m \u001b[38;5;28;01mif\u001b[39;00m prefixo \u001b[38;5;28;01melse\u001b[39;00m chave\n\u001b[1;32m---> 27\u001b[0m         \u001b[43mprocessar_categorias\u001b[49m\u001b[43m(\u001b[49m\u001b[43mcategoria\u001b[49m\u001b[43m,\u001b[49m\u001b[43m \u001b[49m\u001b[43mvalor\u001b[49m\u001b[43m,\u001b[49m\u001b[43m \u001b[49m\u001b[43mnovo_prefixo\u001b[49m\u001b[43m)\u001b[49m\n\u001b[0;32m     28\u001b[0m \u001b[38;5;28;01melif\u001b[39;00m \u001b[38;5;28misinstance\u001b[39m(valores, \u001b[38;5;28mlist\u001b[39m):\n\u001b[0;32m     29\u001b[0m     \u001b[38;5;28;01mfor\u001b[39;00m i, valor \u001b[38;5;129;01min\u001b[39;00m \u001b[38;5;28menumerate\u001b[39m(valores):\n",
      "Cell \u001b[1;32mIn[42], line 27\u001b[0m, in \u001b[0;36mcriar_dataframe.<locals>.processar_categorias\u001b[1;34m(categoria, valores, prefixo)\u001b[0m\n\u001b[0;32m     22\u001b[0m     \u001b[38;5;28;01mfor\u001b[39;00m chave, valor \u001b[38;5;129;01min\u001b[39;00m valores\u001b[38;5;241m.\u001b[39mitems():\n\u001b[0;32m     23\u001b[0m         \u001b[38;5;66;03m#operador ternário: condição está entre o if e o else\u001b[39;00m\n\u001b[0;32m     24\u001b[0m         \u001b[38;5;66;03m#se for verdadeiro, executa o que está escrito antes do if\u001b[39;00m\n\u001b[0;32m     25\u001b[0m         \u001b[38;5;66;03m#se for falso, executa o que vem depois do else\u001b[39;00m\n\u001b[0;32m     26\u001b[0m         novo_prefixo \u001b[38;5;241m=\u001b[39m \u001b[38;5;124mf\u001b[39m\u001b[38;5;124m'\u001b[39m\u001b[38;5;132;01m{\u001b[39;00mprefixo\u001b[38;5;132;01m}\u001b[39;00m\u001b[38;5;124m_\u001b[39m\u001b[38;5;132;01m{\u001b[39;00mchave\u001b[38;5;132;01m}\u001b[39;00m\u001b[38;5;124m'\u001b[39m \u001b[38;5;28;01mif\u001b[39;00m prefixo \u001b[38;5;28;01melse\u001b[39;00m chave\n\u001b[1;32m---> 27\u001b[0m         \u001b[43mprocessar_categorias\u001b[49m\u001b[43m(\u001b[49m\u001b[43mcategoria\u001b[49m\u001b[43m,\u001b[49m\u001b[43m \u001b[49m\u001b[43mvalor\u001b[49m\u001b[43m,\u001b[49m\u001b[43m \u001b[49m\u001b[43mnovo_prefixo\u001b[49m\u001b[43m)\u001b[49m\n\u001b[0;32m     28\u001b[0m \u001b[38;5;28;01melif\u001b[39;00m \u001b[38;5;28misinstance\u001b[39m(valores, \u001b[38;5;28mlist\u001b[39m):\n\u001b[0;32m     29\u001b[0m     \u001b[38;5;28;01mfor\u001b[39;00m i, valor \u001b[38;5;129;01min\u001b[39;00m \u001b[38;5;28menumerate\u001b[39m(valores):\n",
      "Cell \u001b[1;32mIn[42], line 32\u001b[0m, in \u001b[0;36mcriar_dataframe.<locals>.processar_categorias\u001b[1;34m(categoria, valores, prefixo)\u001b[0m\n\u001b[0;32m     30\u001b[0m col_nome \u001b[38;5;241m=\u001b[39m \u001b[38;5;124mf\u001b[39m\u001b[38;5;124m'\u001b[39m\u001b[38;5;132;01m{\u001b[39;00mcategoria\u001b[38;5;132;01m}\u001b[39;00m\u001b[38;5;124m_\u001b[39m\u001b[38;5;132;01m{\u001b[39;00mprefixo\u001b[38;5;132;01m}\u001b[39;00m\u001b[38;5;124m'\u001b[39m \u001b[38;5;28;01mif\u001b[39;00m prefixo \u001b[38;5;28;01melse\u001b[39;00m categoria\n\u001b[0;32m     31\u001b[0m \u001b[38;5;28;01mif\u001b[39;00m col_nome \u001b[38;5;129;01mnot\u001b[39;00m \u001b[38;5;129;01min\u001b[39;00m colunas:\n\u001b[1;32m---> 32\u001b[0m     \u001b[43mcolunas\u001b[49m\u001b[43m[\u001b[49m\u001b[43mcol_nome\u001b[49m\u001b[43m]\u001b[49m \u001b[38;5;241m=\u001b[39m []\n\u001b[0;32m     33\u001b[0m \u001b[38;5;28;01mif\u001b[39;00m i \u001b[38;5;241m>\u001b[39m\u001b[38;5;241m=\u001b[39m \u001b[38;5;28mlen\u001b[39m(colunas[col_nome]):\n\u001b[0;32m     34\u001b[0m     colunas[col_nome]\u001b[38;5;241m.\u001b[39mappend(valor)\n",
      "\u001b[1;31mTypeError\u001b[0m: list indices must be integers or slices, not str"
     ]
    }
   ],
   "source": [
    "import sys\n",
    "import os\n",
    "sys.path.append(os.path.abspath(\"../src\"))\n",
    "from main import rendimento\n",
    "print(rendimento)\n",
    "\n",
    "os.chdir(\"D:/Fiap/projetos/WasteZero-IC/WasteZero--python/data\")\n",
    "import json\n",
    "with open(\"preco_alimentos.json\", 'r') as file:\n",
    "    preco_alimentos = json.load(file)\n",
    "\n",
    "import pandas as pd\n",
    "import numpy as np\n",
    "\n",
    "def criar_dataframe(dicionario):\n",
    "    colunas = []\n",
    "\n",
    "    #função para criar categorias especificas para os dados\n",
    "    def processar_categorias(categoria, valores, prefixo= ''):\n",
    "        #verifica se o valor for um dicionário\n",
    "        if isinstance(valores, dict):\n",
    "            for chave, valor in valores.items():\n",
    "                #operador ternário: condição está entre o if e o else\n",
    "                #se for verdadeiro, executa o que está escrito antes do if\n",
    "                #se for falso, executa o que vem depois do else\n",
    "                novo_prefixo = f'{prefixo}_{chave}' if prefixo else chave\n",
    "                processar_categorias(categoria, valor, novo_prefixo)\n",
    "        elif isinstance(valores, list):\n",
    "            for i, valor in enumerate(valores):\n",
    "                col_nome = f'{categoria}_{prefixo}' if prefixo else categoria\n",
    "                if col_nome not in colunas:\n",
    "                    colunas[col_nome] = []\n",
    "                if i >= len(colunas[col_nome]):\n",
    "                    colunas[col_nome].append(valor)\n",
    "                else:\n",
    "                    colunas[col_nome][i] = valor\n",
    "\n",
    "    for chave, valores in dicionario['custo_por_kg'].items():\n",
    "        processar_categorias(chave, valores)\n",
    "    \n",
    "    #expressão geradora -> sintaxe (expressão for item in iterável(lista,dicionario))\n",
    "    tamanho_maximo = max(len(col) for col in colunas.values())\n",
    "    for col_nome in colunas:\n",
    "        while len(colunas[col_nome]) < tamanho_maximo:\n",
    "            colunas[col_nome].append(np.nan)\n",
    "    \n",
    "    df_precos_alimentos = pd.DataFrame(colunas)\n",
    "    return df_precos_alimentos\n",
    "\n",
    "df_precos_alimentos = criar_dataframe(preco_alimentos)\n",
    "print(df_precos_alimentos)\n",
    "\n",
    "\n",
    "\n"
   ]
  },
  {
   "cell_type": "code",
   "execution_count": null,
   "metadata": {},
   "outputs": [],
   "source": []
  }
 ],
 "metadata": {
  "kernelspec": {
   "display_name": "Python 3",
   "language": "python",
   "name": "python3"
  },
  "language_info": {
   "codemirror_mode": {
    "name": "ipython",
    "version": 3
   },
   "file_extension": ".py",
   "mimetype": "text/x-python",
   "name": "python",
   "nbconvert_exporter": "python",
   "pygments_lexer": "ipython3",
   "version": "3.12.3"
  }
 },
 "nbformat": 4,
 "nbformat_minor": 2
}
